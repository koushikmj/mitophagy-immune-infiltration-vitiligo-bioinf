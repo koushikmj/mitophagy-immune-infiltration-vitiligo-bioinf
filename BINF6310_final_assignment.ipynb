{
  "cells": [
    {
      "cell_type": "markdown",
      "metadata": {
        "id": "view-in-github",
        "colab_type": "text"
      },
      "source": [
        "<a href=\"https://colab.research.google.com/github/koushikmj/mitophagy-immune-infiltration-vitiligo-bioinf/blob/main/BINF6310_final_assignment.ipynb\" target=\"_parent\"><img src=\"https://colab.research.google.com/assets/colab-badge.svg\" alt=\"Open In Colab\"/></a>"
      ]
    },
    {
      "cell_type": "markdown",
      "metadata": {
        "id": "HeF76mcJV0c9"
      },
      "source": [
        "### Summary of the Paper\n",
        "The study titled \"Mitophagy and Immune Infiltration in Vitiligo: Evidence from Bioinformatics Analysis\" explores the role of mitophagy (mitochondrial autophagy) and immune infiltration in the progression of vitiligo, an autoimmune depigmented skin disease. The researchers aimed to identify biomarkers and therapeutic targets by analyzing gene expression data from vitiligo lesions.\n"
      ]
    },
    {
      "cell_type": "markdown",
      "metadata": {
        "id": "GayBpgJhVqNI"
      },
      "source": [
        "#### 1. Data Collection\n",
        "Gene Expression Data:\n",
        "\n",
        "Use public repositories like the Gene Expression Omnibus (GEO) or ArrayExpress to obtain microarray or RNA-seq datasets for your study.\n",
        "Ensure datasets include both experimental (e.g., disease) and control groups.\n",
        "Examples: GSE53146 and GSE75819 were used in this paper.\n",
        "Target Gene Sets:\n",
        "\n",
        "Download a set of genes related to your focus (e.g., mitophagy-related genes) from databases like KEGG or Reactome."
      ]
    },
    {
      "cell_type": "code",
      "execution_count": null,
      "metadata": {
        "id": "7zZr_EkZVrNn",
        "outputId": "8b82691b-0b4c-4646-e55b-4ae2992dd378",
        "colab": {
          "base_uri": "https://localhost:8080/"
        }
      },
      "outputs": [
        {
          "output_type": "stream",
          "name": "stdout",
          "text": [
            "Downloading gene_GSE53146 from https://www.ncbi.nlm.nih.gov/geo/download/?acc=GSE53146&format=file&file=GSE53146%5Fnon%5Fnormalized%5Fhuman%2Etxt%2Egz\n",
            "Successfully loaded gene_GSE53146\n",
            "Downloading gene_GSE75819 from https://www.ncbi.nlm.nih.gov/geo/download/?acc=GSE75819&format=file&file=GSE75819%5Fnon%2Dnormalized%2Etxt%2Egz\n",
            "Successfully loaded gene_GSE75819\n",
            "Downloading gene_ID_MAPPING from https://github.com/Rtwick-George-Moses/bioinfo_project/raw/refs/heads/main/GPL14951-11332%20(3).txt.gz\n",
            "Successfully loaded gene_ID_MAPPING\n"
          ]
        }
      ],
      "source": [
        "# download file gene1, gene2\n",
        "import pandas as pd\n",
        "import requests\n",
        "from io import StringIO\n",
        "import gzip\n",
        "import shutil\n",
        "\n",
        "# List of links to download TSV files\n",
        "links =  [   {\"ID\":'GSE53146',\"Link\":'https://www.ncbi.nlm.nih.gov/geo/download/?acc=GSE53146&format=file&file=GSE53146%5Fnon%5Fnormalized%5Fhuman%2Etxt%2Egz'},\n",
        "          {\"ID\":'GSE75819',\"Link\":'https://www.ncbi.nlm.nih.gov/geo/download/?acc=GSE75819&format=file&file=GSE75819%5Fnon%2Dnormalized%2Etxt%2Egz'},\n",
        "             {\"ID\":'ID_MAPPING',\"Link\":\"https://github.com/Rtwick-George-Moses/bioinfo_project/raw/refs/heads/main/GPL14951-11332%20(3).txt.gz\"},\n",
        "          ]# List to store DataFrames\n",
        "dataframes = []\n",
        "\n",
        "# Download each file, load it into a DataFrame, and store it in the list\n",
        "for record in links:\n",
        "    try:\n",
        "        response = requests.get(record[\"Link\"])\n",
        "        response.raise_for_status()  # Raise an error for HTTP issues\n",
        "        # Read TSV file into a pandas DataFrame\n",
        "        print(f\"Downloading gene_{record['ID']} from {record['Link']}\")\n",
        "        file_name = f\"gene_{record['ID']}.txt\"\n",
        "\n",
        "        gz_file = \"temp_file.gz\"\n",
        "        with open(gz_file, \"wb\") as f:\n",
        "            f.write(response.content)\n",
        "\n",
        "        # Decompress the .gz file and save as .txt\n",
        "        with gzip.open(gz_file, \"rt\") as gz:\n",
        "            with open(file_name, \"w\") as txt:\n",
        "                shutil.copyfileobj(gz, txt)\n",
        "\n",
        "        print(f\"Successfully loaded gene_{record['ID']}\")\n",
        "    except requests.exceptions.RequestException as e:\n",
        "        print(f\"Failed to download or load gene_{record['ID']} from {record['Link']}: {e}\")\n",
        "\n",
        "# Open the file in read mode\n",
        "with open('gene_GSE75819.txt', 'r') as file:\n",
        "    lines = file.readlines()\n",
        "\n",
        "# Write the lines, skipping the first 5\n",
        "with open('gene_GSE75819.txt', 'w') as file:\n",
        "    file.writelines(lines[5:])\n",
        "\n",
        "# Open the file in read mode\n",
        "with open('gene_ID_MAPPING.txt', 'r') as file:\n",
        "    lines = file.readlines()\n",
        "\n",
        "# Write the lines, skipping the first 5\n",
        "with open('gene_ID_MAPPING.txt', 'w') as file:\n",
        "    file.writelines(lines[28:])\n"
      ]
    },
    {
      "cell_type": "code",
      "execution_count": null,
      "metadata": {
        "colab": {
          "base_uri": "https://localhost:8080/"
        },
        "id": "FXYAKmsbWEH6",
        "outputId": "4b1661cf-383a-40ac-a8a6-606dfa82dc29"
      },
      "outputs": [
        {
          "output_type": "stream",
          "name": "stderr",
          "text": [
            "<ipython-input-3-b25c99a3b4f2>:4: DtypeWarning: Columns (4) have mixed types. Specify dtype option on import or set low_memory=False.\n",
            "  df1 = pd.read_csv('gene_GSE75819.txt', sep='\\t')\n"
          ]
        },
        {
          "output_type": "stream",
          "name": "stdout",
          "text": [
            "True\n",
            "0        27246.040000\n",
            "1         4792.797000\n",
            "2           28.558759\n",
            "3           34.587432\n",
            "4           29.916868\n",
            "             ...     \n",
            "29372       28.050147\n",
            "29373       23.538834\n",
            "29374       24.316442\n",
            "29375    12261.620000\n",
            "29376       23.646365\n",
            "Name: VD13V.AVG_Signal, Length: 29377, dtype: float64\n",
            "TargetID             object\n",
            "VD13N.AVG_Signal    float64\n",
            "VD13V.AVG_Signal    float64\n",
            "VD18N.AVG_Signal    float64\n",
            "VD18V.AVG_Signal    float64\n",
            "VD19N.AVG_Signal    float64\n",
            "VD19V.AVG_Signal    float64\n",
            "VD20N.AVG_Signal    float64\n",
            "VD20V.AVG_Signal    float64\n",
            "VD23N.AVG_Signal    float64\n",
            "VD23V.AVG_Signal    float64\n",
            "VD24N.AVG_Signal    float64\n",
            "VD24V.AVG_Signal    float64\n",
            "VD22N.AVG_Signal    float64\n",
            "VD22V.AVG_Signal    float64\n",
            "VD32N.AVG_Signal    float64\n",
            "VD32V.AVG_Signal    float64\n",
            "VD33N.AVG_Signal    float64\n",
            "VD33V.AVG_Signal    float64\n",
            "VD37N.AVG_Signal    float64\n",
            "VD37V.AVG_Signal    float64\n",
            "VD39N.AVG_Signal    float64\n",
            "VD39V.AVG_Signal    float64\n",
            "VD38N.AVG_Signal    float64\n",
            "VD38V.AVG_Signal    float64\n",
            "VD40N.AVG_Signal    float64\n",
            "VD40V.AVG_Signal    float64\n",
            "VD44N.AVG_Signal    float64\n",
            "VD44V.AVG_Signal    float64\n",
            "VD49N.AVG_Signal    float64\n",
            "VD49V.AVG_Signal    float64\n",
            "c.7.AVG_Signal      float64\n",
            "c.8.AVG_Signal      float64\n",
            "c.9.AVG_Signal      float64\n",
            "c.10.AVG_Signal     float64\n",
            "c.11.AVG_Signal     float64\n",
            "v.1.AVG_Signal      float64\n",
            "v.2.AVG_Signal      float64\n",
            "v.3.AVG_Signal      float64\n",
            "v.4.AVG_Signal      float64\n",
            "v.5.AVG_Signal      float64\n",
            "dtype: object\n"
          ]
        }
      ],
      "source": [
        "import pandas as pd\n",
        "import numpy as np\n",
        "\n",
        "df1 = pd.read_csv('gene_GSE75819.txt', sep='\\t')\n",
        "df2 = pd.read_csv('gene_GSE53146.txt', sep='\\t')\n",
        "df3 = pd.read_csv('gene_ID_MAPPING.txt', sep='\\t')\n",
        "\n",
        "#selecting ID, ILMN_Gene\n",
        "df3 = df3[[\"ID\",\"ILMN_Gene\"]]\n",
        "\n",
        "\n",
        "\n",
        "\n",
        "#print(df1.shape,df2.shape,df3.shape)\n",
        "# Add '_AVG' suffix to the first column name\n",
        "df1.columns.values[0] = df1.columns.values[0] + '_AVG'\n",
        "df2.columns.values[0] = df2.columns.values[0] + '_AVG'\n",
        "df3.columns.values[0] = df3.columns.values[0] + '_AVG'\n",
        "\n",
        "df3['ILMN_Gene'] = df3['ILMN_Gene'].astype('str')\n",
        "\n",
        "\n",
        "# Combining Df2 and DF3 on\n",
        "df2 = pd.merge(df2, df3,left_on=\"ID_REF_AVG\", right_on=\"ID_AVG\", how='inner')\n",
        "\n",
        "df2.to_csv(\"Mapped_Dataset2.csv\")\n",
        "\n",
        "\n",
        "df2['ILMN_Gene']=df2['ILMN_Gene'].astype('str')\n",
        "\n",
        "# Drop rows with any null values\n",
        "df1 = df1.dropna()\n",
        "df2 = df2.dropna()\n",
        "df3 = df3.dropna()\n",
        "\n",
        "\n",
        "# Drop duplicates from both DataFrames\n",
        "df1 = df1.drop_duplicates()\n",
        "df2 = df2.drop_duplicates()\n",
        "\n",
        "#print(df1.columns,df2.columns)\n",
        "\n",
        "#df1[\"Batch\"] = \"GSE75819\"\n",
        "#df2[\"Batch\"] = \"GSE53146\"\n",
        "\n",
        "df1['ILMN_Gene'] = df1['TargetID'].astype(str)\n",
        "\n",
        "# Perform an outer join on the DataFrames (assuming you are joining on a common column)\n",
        "merged_df = pd.concat([df1, df2],axis=1,join='outer')\n",
        "\n",
        "#print(merged_df.head())\n",
        "\n",
        "\n",
        "#merged_df = merged_df.drop_duplicates().dropna()\n",
        "\n",
        "# # # Remove columns that don't have 'avg' in their name\n",
        "# df1 = df1.loc[:, df1.columns.str.contains('AVG')]\n",
        "merged_df_2 = merged_df.loc[:, merged_df.columns.str.contains('TargetID')]\n",
        "merged_df_1 = merged_df.loc[:, merged_df.columns.str.contains('AVG_Signal')]\n",
        "\n",
        "\n",
        "\n",
        "merged_df = pd.concat([merged_df_2,merged_df_1],axis=1)\n",
        "\n",
        "merged_df = merged_df.drop_duplicates().dropna()\n",
        "\n",
        "merged_df['TargetID'] = merged_df['TargetID'].str.strip()\n",
        "\n",
        "merged_df.to_csv(\"merged_gene_file_test.csv\")\n",
        "\n",
        "#print(merged_df.sort_values(by ='TargetID').head(5))\n",
        "\n",
        "# Create an empty list to store results\n",
        "mean_list = []\n",
        "\n",
        "# Get the unique TargetID values\n",
        "unique_ids = merged_df['TargetID'].unique()\n",
        "print('1-Dec' in unique_ids.tolist())\n",
        "\n",
        "merged_df['VD13V.AVG_Signal'] = merged_df['VD13V.AVG_Signal'].astype('float64')\n",
        "print(merged_df['VD13V.AVG_Signal'])\n",
        "print(merged_df.dtypes)\n",
        "\n",
        "# Iterate over unique TargetID values\n",
        "for target_id in unique_ids:\n",
        "    # Filter rows for the current TargetID\n",
        "    group = merged_df[merged_df['TargetID'] == target_id]\n",
        "    # Calculate the mean for numeric columns\n",
        "    mean_values = group.mean(numeric_only=True)\n",
        "    # Add the alphanumeric TargetID back to the result\n",
        "    mean_values['TargetID'] = target_id\n",
        "    # Append the result to the list\n",
        "    mean_list.append(mean_values)\n",
        "\n",
        "# Create a new DataFrame from the list of mean values\n",
        "merged_df = pd.DataFrame(mean_list)\n",
        "#print(merged_df.head)\n",
        "# Reorder columns so TargetID appears first\n",
        "merged_df = merged_df[['TargetID'] + [col for col in merged_df.columns if col != 'TargetID']]\n",
        "#print(merged_df.head)\n",
        "#print(merged_df.sort_values(by ='TargetID').head(5))\n",
        "\n",
        "# Group by TargetID and calculate the mean for numeric columns\n",
        "# merged_df = merged_df.groupby('TargetID').agg(lambda x: x.mean() if x.dtype in [np.float64, np.int64] else x).reset_index()\n",
        "\n",
        "# # # Remove columns that don't have 'avg' in their name\n",
        "# df1 = df1.loc[:, df1.columns.str.contains('AVG')]\n",
        "#*AVG_Signal, Target_ID\n",
        "# Save the result to a new TSV file\n",
        "\n",
        "\n",
        "merged_df.to_csv('merged_gene_file.csv', sep=',', index=False)\n",
        "\n",
        "\n",
        "\n",
        "\n"
      ]
    },
    {
      "cell_type": "code",
      "execution_count": null,
      "metadata": {
        "id": "-A7ZpEY_59wf"
      },
      "outputs": [],
      "source": [
        "metadata_df_1 = pd.DataFrame()\n",
        "metadata_df_1[\"sample\"] = df1.columns\n",
        "metadata_df_1['batch'] = \"GSE75819\"\n",
        "\n",
        "metadata_df_2 = pd.DataFrame()\n",
        "metadata_df_2[\"sample\"] = df2.columns\n",
        "metadata_df_2['batch'] = \"GSE53146\"\n",
        "\n",
        "metadata_df = pd.concat([metadata_df_1,metadata_df_2])\n",
        "\n",
        "metadata_df = metadata_df[metadata_df['sample'].str.contains('AVG_Signal')]\n",
        "\n",
        "metadata_df.to_csv('metadata.csv', index=False)"
      ]
    },
    {
      "cell_type": "code",
      "execution_count": null,
      "metadata": {
        "colab": {
          "base_uri": "https://localhost:8080/"
        },
        "id": "ZlnDPiGcW5s6",
        "outputId": "36842c59-e10e-4a4b-fe0d-0d319954655a"
      },
      "outputs": [
        {
          "output_type": "stream",
          "name": "stdout",
          "text": [
            "(40, 2)\n",
            "(24053, 41)\n"
          ]
        }
      ],
      "source": [
        "print(metadata_df.shape)\n",
        "print(merged_df.shape)\n"
      ]
    },
    {
      "cell_type": "code",
      "execution_count": null,
      "metadata": {
        "colab": {
          "base_uri": "https://localhost:8080/"
        },
        "id": "XfDqLexaByDQ",
        "outputId": "3dc74b14-fc6f-45dc-9d8e-0c581f7493fb"
      },
      "outputs": [
        {
          "output_type": "execute_result",
          "data": {
            "text/plain": [
              "[]"
            ]
          },
          "metadata": {},
          "execution_count": 6
        }
      ],
      "source": [
        "list(set(metadata_df['sample']) - set(merged_df.columns))"
      ]
    },
    {
      "cell_type": "markdown",
      "metadata": {
        "id": "tIn5cNg4uWBC"
      },
      "source": [
        "# Make the Runtime R"
      ]
    },
    {
      "cell_type": "code",
      "execution_count": null,
      "metadata": {
        "colab": {
          "base_uri": "https://localhost:8080/",
          "height": 1000
        },
        "id": "2rNebrJZDPKm",
        "outputId": "353ef141-b2bb-488e-c324-c17ce3fd2bcd"
      },
      "outputs": [
        {
          "output_type": "stream",
          "name": "stderr",
          "text": [
            "Installing package into ‘/usr/local/lib/R/site-library’\n",
            "(as ‘lib’ is unspecified)\n",
            "\n",
            "'getOption(\"repos\")' replaces Bioconductor standard repositories, see\n",
            "'help(\"repositories\", package = \"BiocManager\")' for details.\n",
            "Replacement repositories:\n",
            "    CRAN: https://cran.rstudio.com\n",
            "\n",
            "Bioconductor version 3.20 (BiocManager 1.30.25), R 4.4.2 (2024-10-31)\n",
            "\n",
            "Installing package(s) 'BiocVersion', 'limma'\n",
            "\n",
            "also installing the dependency ‘statmod’\n",
            "\n",
            "\n",
            "Old packages: 'httr2', 'later', 'promises', 'usethis'\n",
            "\n"
          ]
        },
        {
          "output_type": "stream",
          "name": "stdout",
          "text": [
            "Checking if expression_data columns are numeric:\n",
            "Checking for missing values in expression_data...\n",
            "Removing batch effects using limma...\n",
            "Inspecting batch-corrected data:\n"
          ]
        },
        {
          "output_type": "display_data",
          "data": {
            "text/html": [
              "<table class=\"dataframe\">\n",
              "<caption>A matrix: 6 × 40 of type dbl</caption>\n",
              "<thead>\n",
              "\t<tr><th></th><th scope=col>VD13N.AVG_Signal</th><th scope=col>VD13V.AVG_Signal</th><th scope=col>VD18N.AVG_Signal</th><th scope=col>VD18V.AVG_Signal</th><th scope=col>VD19N.AVG_Signal</th><th scope=col>VD19V.AVG_Signal</th><th scope=col>VD20N.AVG_Signal</th><th scope=col>VD20V.AVG_Signal</th><th scope=col>VD23N.AVG_Signal</th><th scope=col>VD23V.AVG_Signal</th><th scope=col>⋯</th><th scope=col>c.7.AVG_Signal</th><th scope=col>c.8.AVG_Signal</th><th scope=col>c.9.AVG_Signal</th><th scope=col>c.10.AVG_Signal</th><th scope=col>c.11.AVG_Signal</th><th scope=col>v.1.AVG_Signal</th><th scope=col>v.2.AVG_Signal</th><th scope=col>v.3.AVG_Signal</th><th scope=col>v.4.AVG_Signal</th><th scope=col>v.5.AVG_Signal</th></tr>\n",
              "</thead>\n",
              "<tbody>\n",
              "\t<tr><th scope=row>EEF1A1</th><td>14480.3992</td><td>17821.8292</td><td>17531.8242</td><td>16611.3142</td><td>20324.3442</td><td>16618.6242</td><td>22631.1892</td><td>24898.9992</td><td>19461.7042</td><td>19886.6292</td><td>⋯</td><td>15577.59518</td><td>16966.55163</td><td>34865.43648</td><td>45531.28</td><td>24574.81873</td><td>11795.902533</td><td>15092.96733</td><td>10340.2598</td><td>15247.3655</td><td>11496.3343</td></tr>\n",
              "\t<tr><th scope=row>GAPDH</th><td> 5842.6254</td><td> 3272.7994</td><td> 7015.2854</td><td> 4090.8149</td><td> 7653.0414</td><td> 3069.8349</td><td> 9769.3364</td><td> 3968.4399</td><td> 4430.2094</td><td> 3005.8249</td><td>⋯</td><td> 2393.47213</td><td>   78.88403</td><td>15138.88413</td><td>28856.46</td><td> 3344.91658</td><td> 1306.934884</td><td> 2675.95013</td><td>  522.7992</td><td> 4025.3276</td><td>  770.9730</td></tr>\n",
              "\t<tr><th scope=row>LOC643334</th><td> 5987.8397</td><td> 5990.3285</td><td> 5993.6962</td><td> 5990.4332</td><td> 5987.0727</td><td> 5994.4725</td><td> 5984.1871</td><td> 6001.7861</td><td> 5991.8685</td><td> 5986.9321</td><td>⋯</td><td>-4770.48375</td><td> 4991.40025</td><td>24735.82025</td><td>53442.37</td><td> 5092.74025</td><td>-5843.162650</td><td>-1970.39875</td><td>-5829.9264</td><td>-4705.3177</td><td>-4749.9117</td></tr>\n",
              "\t<tr><th scope=row>SLC35E2</th><td>  793.1907</td><td>  787.7038</td><td>  801.5301</td><td>  803.9837</td><td>  808.3150</td><td>  790.7165</td><td>  778.5118</td><td>  787.7991</td><td>  781.5408</td><td>  788.5668</td><td>⋯</td><td> -657.52129</td><td> -530.83420</td><td> -644.69120</td><td>13994.04</td><td> -624.27730</td><td> -654.661614</td><td> -654.86023</td><td> -650.4553</td><td> -648.1548</td><td> -511.1529</td></tr>\n",
              "\t<tr><th scope=row>DUSP22</th><td> 2744.6462</td><td> 2415.0498</td><td> 2656.0171</td><td> 2396.6023</td><td> 2664.3260</td><td> 2341.3375</td><td> 2897.0761</td><td> 2449.9956</td><td> 2660.3561</td><td> 2430.8265</td><td>⋯</td><td>  883.34403</td><td>  180.55387</td><td> -148.81318</td><td>13162.99</td><td>  613.90025</td><td> -137.701669</td><td> 6470.46335</td><td>  540.4784</td><td> 4687.8153</td><td>  577.6305</td></tr>\n",
              "\t<tr><th scope=row>LOC642820</th><td>  109.6082</td><td>  114.6670</td><td>  114.8296</td><td>  110.5616</td><td>  107.8615</td><td>  107.8733</td><td>  112.9883</td><td>  110.2036</td><td>  109.3142</td><td>  105.8630</td><td>⋯</td><td>   21.17936</td><td>  131.00534</td><td>   30.72354</td><td>  314.53</td><td>   33.84394</td><td>    8.618146</td><td>   19.96174</td><td>  119.5859</td><td>  582.4692</td><td>  346.7948</td></tr>\n",
              "</tbody>\n",
              "</table>\n"
            ],
            "text/markdown": "\nA matrix: 6 × 40 of type dbl\n\n| <!--/--> | VD13N.AVG_Signal | VD13V.AVG_Signal | VD18N.AVG_Signal | VD18V.AVG_Signal | VD19N.AVG_Signal | VD19V.AVG_Signal | VD20N.AVG_Signal | VD20V.AVG_Signal | VD23N.AVG_Signal | VD23V.AVG_Signal | ⋯ | c.7.AVG_Signal | c.8.AVG_Signal | c.9.AVG_Signal | c.10.AVG_Signal | c.11.AVG_Signal | v.1.AVG_Signal | v.2.AVG_Signal | v.3.AVG_Signal | v.4.AVG_Signal | v.5.AVG_Signal |\n|---|---|---|---|---|---|---|---|---|---|---|---|---|---|---|---|---|---|---|---|---|---|\n| EEF1A1 | 14480.3992 | 17821.8292 | 17531.8242 | 16611.3142 | 20324.3442 | 16618.6242 | 22631.1892 | 24898.9992 | 19461.7042 | 19886.6292 | ⋯ | 15577.59518 | 16966.55163 | 34865.43648 | 45531.28 | 24574.81873 | 11795.902533 | 15092.96733 | 10340.2598 | 15247.3655 | 11496.3343 |\n| GAPDH |  5842.6254 |  3272.7994 |  7015.2854 |  4090.8149 |  7653.0414 |  3069.8349 |  9769.3364 |  3968.4399 |  4430.2094 |  3005.8249 | ⋯ |  2393.47213 |    78.88403 | 15138.88413 | 28856.46 |  3344.91658 |  1306.934884 |  2675.95013 |   522.7992 |  4025.3276 |   770.9730 |\n| LOC643334 |  5987.8397 |  5990.3285 |  5993.6962 |  5990.4332 |  5987.0727 |  5994.4725 |  5984.1871 |  6001.7861 |  5991.8685 |  5986.9321 | ⋯ | -4770.48375 |  4991.40025 | 24735.82025 | 53442.37 |  5092.74025 | -5843.162650 | -1970.39875 | -5829.9264 | -4705.3177 | -4749.9117 |\n| SLC35E2 |   793.1907 |   787.7038 |   801.5301 |   803.9837 |   808.3150 |   790.7165 |   778.5118 |   787.7991 |   781.5408 |   788.5668 | ⋯ |  -657.52129 |  -530.83420 |  -644.69120 | 13994.04 |  -624.27730 |  -654.661614 |  -654.86023 |  -650.4553 |  -648.1548 |  -511.1529 |\n| DUSP22 |  2744.6462 |  2415.0498 |  2656.0171 |  2396.6023 |  2664.3260 |  2341.3375 |  2897.0761 |  2449.9956 |  2660.3561 |  2430.8265 | ⋯ |   883.34403 |   180.55387 |  -148.81318 | 13162.99 |   613.90025 |  -137.701669 |  6470.46335 |   540.4784 |  4687.8153 |   577.6305 |\n| LOC642820 |   109.6082 |   114.6670 |   114.8296 |   110.5616 |   107.8615 |   107.8733 |   112.9883 |   110.2036 |   109.3142 |   105.8630 | ⋯ |    21.17936 |   131.00534 |    30.72354 |   314.53 |    33.84394 |     8.618146 |    19.96174 |   119.5859 |   582.4692 |   346.7948 |\n\n",
            "text/latex": "A matrix: 6 × 40 of type dbl\n\\begin{tabular}{r|lllllllllllllllllllll}\n  & VD13N.AVG\\_Signal & VD13V.AVG\\_Signal & VD18N.AVG\\_Signal & VD18V.AVG\\_Signal & VD19N.AVG\\_Signal & VD19V.AVG\\_Signal & VD20N.AVG\\_Signal & VD20V.AVG\\_Signal & VD23N.AVG\\_Signal & VD23V.AVG\\_Signal & ⋯ & c.7.AVG\\_Signal & c.8.AVG\\_Signal & c.9.AVG\\_Signal & c.10.AVG\\_Signal & c.11.AVG\\_Signal & v.1.AVG\\_Signal & v.2.AVG\\_Signal & v.3.AVG\\_Signal & v.4.AVG\\_Signal & v.5.AVG\\_Signal\\\\\n\\hline\n\tEEF1A1 & 14480.3992 & 17821.8292 & 17531.8242 & 16611.3142 & 20324.3442 & 16618.6242 & 22631.1892 & 24898.9992 & 19461.7042 & 19886.6292 & ⋯ & 15577.59518 & 16966.55163 & 34865.43648 & 45531.28 & 24574.81873 & 11795.902533 & 15092.96733 & 10340.2598 & 15247.3655 & 11496.3343\\\\\n\tGAPDH &  5842.6254 &  3272.7994 &  7015.2854 &  4090.8149 &  7653.0414 &  3069.8349 &  9769.3364 &  3968.4399 &  4430.2094 &  3005.8249 & ⋯ &  2393.47213 &    78.88403 & 15138.88413 & 28856.46 &  3344.91658 &  1306.934884 &  2675.95013 &   522.7992 &  4025.3276 &   770.9730\\\\\n\tLOC643334 &  5987.8397 &  5990.3285 &  5993.6962 &  5990.4332 &  5987.0727 &  5994.4725 &  5984.1871 &  6001.7861 &  5991.8685 &  5986.9321 & ⋯ & -4770.48375 &  4991.40025 & 24735.82025 & 53442.37 &  5092.74025 & -5843.162650 & -1970.39875 & -5829.9264 & -4705.3177 & -4749.9117\\\\\n\tSLC35E2 &   793.1907 &   787.7038 &   801.5301 &   803.9837 &   808.3150 &   790.7165 &   778.5118 &   787.7991 &   781.5408 &   788.5668 & ⋯ &  -657.52129 &  -530.83420 &  -644.69120 & 13994.04 &  -624.27730 &  -654.661614 &  -654.86023 &  -650.4553 &  -648.1548 &  -511.1529\\\\\n\tDUSP22 &  2744.6462 &  2415.0498 &  2656.0171 &  2396.6023 &  2664.3260 &  2341.3375 &  2897.0761 &  2449.9956 &  2660.3561 &  2430.8265 & ⋯ &   883.34403 &   180.55387 &  -148.81318 & 13162.99 &   613.90025 &  -137.701669 &  6470.46335 &   540.4784 &  4687.8153 &   577.6305\\\\\n\tLOC642820 &   109.6082 &   114.6670 &   114.8296 &   110.5616 &   107.8615 &   107.8733 &   112.9883 &   110.2036 &   109.3142 &   105.8630 & ⋯ &    21.17936 &   131.00534 &    30.72354 &   314.53 &    33.84394 &     8.618146 &    19.96174 &   119.5859 &   582.4692 &   346.7948\\\\\n\\end{tabular}\n",
            "text/plain": [
              "          VD13N.AVG_Signal VD13V.AVG_Signal VD18N.AVG_Signal VD18V.AVG_Signal\n",
              "EEF1A1    14480.3992       17821.8292       17531.8242       16611.3142      \n",
              "GAPDH      5842.6254        3272.7994        7015.2854        4090.8149      \n",
              "LOC643334  5987.8397        5990.3285        5993.6962        5990.4332      \n",
              "SLC35E2     793.1907         787.7038         801.5301         803.9837      \n",
              "DUSP22     2744.6462        2415.0498        2656.0171        2396.6023      \n",
              "LOC642820   109.6082         114.6670         114.8296         110.5616      \n",
              "          VD19N.AVG_Signal VD19V.AVG_Signal VD20N.AVG_Signal VD20V.AVG_Signal\n",
              "EEF1A1    20324.3442       16618.6242       22631.1892       24898.9992      \n",
              "GAPDH      7653.0414        3069.8349        9769.3364        3968.4399      \n",
              "LOC643334  5987.0727        5994.4725        5984.1871        6001.7861      \n",
              "SLC35E2     808.3150         790.7165         778.5118         787.7991      \n",
              "DUSP22     2664.3260        2341.3375        2897.0761        2449.9956      \n",
              "LOC642820   107.8615         107.8733         112.9883         110.2036      \n",
              "          VD23N.AVG_Signal VD23V.AVG_Signal ⋯ c.7.AVG_Signal c.8.AVG_Signal\n",
              "EEF1A1    19461.7042       19886.6292       ⋯ 15577.59518    16966.55163   \n",
              "GAPDH      4430.2094        3005.8249       ⋯  2393.47213       78.88403   \n",
              "LOC643334  5991.8685        5986.9321       ⋯ -4770.48375     4991.40025   \n",
              "SLC35E2     781.5408         788.5668       ⋯  -657.52129     -530.83420   \n",
              "DUSP22     2660.3561        2430.8265       ⋯   883.34403      180.55387   \n",
              "LOC642820   109.3142         105.8630       ⋯    21.17936      131.00534   \n",
              "          c.9.AVG_Signal c.10.AVG_Signal c.11.AVG_Signal v.1.AVG_Signal\n",
              "EEF1A1    34865.43648    45531.28        24574.81873     11795.902533  \n",
              "GAPDH     15138.88413    28856.46         3344.91658      1306.934884  \n",
              "LOC643334 24735.82025    53442.37         5092.74025     -5843.162650  \n",
              "SLC35E2    -644.69120    13994.04         -624.27730      -654.661614  \n",
              "DUSP22     -148.81318    13162.99          613.90025      -137.701669  \n",
              "LOC642820    30.72354      314.53           33.84394         8.618146  \n",
              "          v.2.AVG_Signal v.3.AVG_Signal v.4.AVG_Signal v.5.AVG_Signal\n",
              "EEF1A1    15092.96733    10340.2598     15247.3655     11496.3343    \n",
              "GAPDH      2675.95013      522.7992      4025.3276       770.9730    \n",
              "LOC643334 -1970.39875    -5829.9264     -4705.3177     -4749.9117    \n",
              "SLC35E2    -654.86023     -650.4553      -648.1548      -511.1529    \n",
              "DUSP22     6470.46335      540.4784      4687.8153       577.6305    \n",
              "LOC642820    19.96174      119.5859       582.4692       346.7948    "
            ]
          },
          "metadata": {}
        },
        {
          "output_type": "stream",
          "name": "stdout",
          "text": [
            "Saving batch-corrected expression data...\n",
            "Performing PCA on batch-corrected expression data...\n",
            "Variance explained by each principal component:\n"
          ]
        },
        {
          "output_type": "display_data",
          "data": {
            "text/plain": [
              "Importance of components:\n",
              "                           PC1     PC2     PC3      PC4      PC5      PC6\n",
              "Standard deviation     96.7703 66.3497 47.2716 41.84985 35.86452 30.89001\n",
              "Proportion of Variance  0.3893  0.1830  0.0929  0.07281  0.05348  0.03967\n",
              "Cumulative Proportion   0.3893  0.5724  0.6653  0.73807  0.79155  0.83122\n",
              "                            PC7      PC8      PC9     PC10     PC11    PC12\n",
              "Standard deviation     26.74086 26.28048 24.76255 22.18018 19.13094 17.6850\n",
              "Proportion of Variance  0.02973  0.02871  0.02549  0.02045  0.01522  0.0130\n",
              "Cumulative Proportion   0.86095  0.88966  0.91515  0.93561  0.95082  0.9638\n",
              "                           PC13    PC14    PC15    PC16    PC17    PC18    PC19\n",
              "Standard deviation     14.97859 9.58025 8.34113 7.29238 6.86299 6.63950 6.28668\n",
              "Proportion of Variance  0.00933 0.00382 0.00289 0.00221 0.00196 0.00183 0.00164\n",
              "Cumulative Proportion   0.97315 0.97697 0.97986 0.98207 0.98403 0.98586 0.98751\n",
              "                          PC20    PC21    PC22    PC23    PC24    PC25    PC26\n",
              "Standard deviation     5.90707 5.78867 5.21183 4.80332 4.55296 4.36226 4.26922\n",
              "Proportion of Variance 0.00145 0.00139 0.00113 0.00096 0.00086 0.00079 0.00076\n",
              "Cumulative Proportion  0.98896 0.99035 0.99148 0.99244 0.99330 0.99409 0.99485\n",
              "                          PC27    PC28    PC29    PC30    PC31    PC32   PC33\n",
              "Standard deviation     4.16232 4.05645 3.87980 3.74908 3.48571 3.29368 3.1135\n",
              "Proportion of Variance 0.00072 0.00068 0.00063 0.00058 0.00051 0.00045 0.0004\n",
              "Cumulative Proportion  0.99557 0.99625 0.99688 0.99746 0.99797 0.99842 0.9988\n",
              "                          PC34    PC35    PC36    PC37    PC38      PC39\n",
              "Standard deviation     2.87742 2.60824 2.42761 2.10194 1.71074 1.219e-13\n",
              "Proportion of Variance 0.00034 0.00028 0.00025 0.00018 0.00012 0.000e+00\n",
              "Cumulative Proportion  0.99917 0.99945 0.99969 0.99988 1.00000 1.000e+00\n",
              "                            PC40\n",
              "Standard deviation     3.824e-14\n",
              "Proportion of Variance 0.000e+00\n",
              "Cumulative Proportion  1.000e+00"
            ]
          },
          "metadata": {}
        },
        {
          "output_type": "stream",
          "name": "stdout",
          "text": [
            "Plotting PCA results...\n"
          ]
        },
        {
          "output_type": "stream",
          "name": "stderr",
          "text": [
            "\u001b[1m\u001b[22mSaving 7 x 7 in image\n"
          ]
        },
        {
          "output_type": "stream",
          "name": "stdout",
          "text": [
            "Script completed successfully!\n"
          ]
        },
        {
          "output_type": "display_data",
          "data": {
            "text/plain": [
              "plot without title"
            ],
            "image/png": "[encoded data removed]"
          },
          "metadata": {
            "image/png": {
              "width": 420,
              "height": 420
            }
          }
        }
      ],
      "source": [
        "# Install necessary packages if not already installed\n",
        "if (!requireNamespace(\"BiocManager\", quietly = TRUE)) {\n",
        "  install.packages(\"BiocManager\")\n",
        "}\n",
        "BiocManager::install(\"limma\")\n",
        "\n",
        "# Load necessary library\n",
        "library(limma)\n",
        "\n",
        "# Load your expression data and metadata\n",
        "expression_data <- read.csv(\"merged_gene_file.csv\", row.names = 1)  # Replace with your file path\n",
        "metadata <- read.csv(\"metadata.csv\")  # Replace with your file path\n",
        "\n",
        "# Ensure expression data is numeric\n",
        "cat(\"Checking if expression_data columns are numeric:\\n\")\n",
        "if (any(!sapply(expression_data, is.numeric))) {\n",
        "  cat(\"Converting non-numeric columns to numeric...\\n\")\n",
        "  expression_data <- apply(expression_data, 2, as.numeric)  # Convert all columns to numeric\n",
        "}\n",
        "\n",
        "# Check for missing values and handle them\n",
        "cat(\"Checking for missing values in expression_data...\\n\")\n",
        "if (sum(is.na(expression_data)) > 0) {\n",
        "  cat(\"Missing values found. Handling missing data...\\n\")\n",
        "  expression_data <- expression_data[complete.cases(expression_data), ]\n",
        "  metadata <- metadata[complete.cases(expression_data), ]  # Ensure metadata matches\n",
        "}\n",
        "\n",
        "# Check that the number of rows in metadata matches the number of columns in expression_data\n",
        "if (nrow(metadata) != ncol(expression_data)) {\n",
        "  stop(\"Number of rows in 'metadata' does not match the number of columns in 'expression_data'. Please check your data.\")\n",
        "}\n",
        "\n",
        "# Convert batch variable in metadata to a factor\n",
        "metadata$batch <- as.factor(metadata$batch)\n",
        "\n",
        "# Remove batch effects using limma\n",
        "cat(\"Removing batch effects using limma...\\n\")\n",
        "batch_corrected <- removeBatchEffect(expression_data, batch = metadata$batch)\n",
        "\n",
        "# Check the batch-corrected data\n",
        "cat(\"Inspecting batch-corrected data:\\n\")\n",
        "head(batch_corrected)\n",
        "\n",
        "# Save corrected data to CSV\n",
        "cat(\"Saving batch-corrected expression data...\\n\")\n",
        "write.csv(batch_corrected, \"batch_corrected_expression.csv\")\n",
        "\n",
        "# PCA analysis on the batch-corrected data\n",
        "cat(\"Performing PCA on batch-corrected expression data...\\n\")\n",
        "pca_result <- prcomp(t(batch_corrected), scale. = TRUE)\n",
        "\n",
        "# Variance explained by each principal component\n",
        "cat(\"Variance explained by each principal component:\\n\")\n",
        "summary(pca_result)\n",
        "\n",
        "# Plot PCA - First two principal components\n",
        "cat(\"Plotting PCA results...\\n\")\n",
        "pca_data <- data.frame(PC1 = pca_result$x[, 1], PC2 = pca_result$x[, 2], Batch = metadata$batch)\n",
        "library(ggplot2)\n",
        "\n",
        "ggplot(pca_data, aes(x = PC1, y = PC2, color = Batch)) +\n",
        "  geom_point() +\n",
        "  labs(title = \"PCA of Batch-Corrected Expression Data\",\n",
        "       x = \"Principal Component 1\",\n",
        "       y = \"Principal Component 2\") +\n",
        "  theme_minimal()\n",
        "\n",
        "# Save PCA plot\n",
        "ggsave(\"PCA_plot.png\")\n",
        "\n",
        "cat(\"Script completed successfully!\\n\")\n"
      ]
    },
    {
      "cell_type": "code",
      "execution_count": null,
      "metadata": {
        "colab": {
          "base_uri": "https://localhost:8080/",
          "height": 1000
        },
        "id": "nhYjfhiMLPMl",
        "outputId": "ac3a83bc-3731-47ef-dbe7-fd6b42abb60c"
      },
      "outputs": [
        {
          "output_type": "stream",
          "name": "stdout",
          "text": [
            "'data.frame':\t24053 obs. of  40 variables:\n",
            " $ VD13N.AVG_Signal: num  24626 5727.1 26.1 40.1 1492.2 ...\n",
            " $ VD13V.AVG_Signal: num  27967.4 3157.3 28.6 34.6 1162.6 ...\n",
            " $ VD18N.AVG_Signal: num  27677.4 6899.7 31.9 48.4 1403.6 ...\n",
            " $ VD18V.AVG_Signal: num  26756.9 3975.3 28.7 50.9 1144.2 ...\n",
            " $ VD19N.AVG_Signal: num  30469.9 7537.5 25.3 55.2 1411.9 ...\n",
            " $ VD19V.AVG_Signal: num  26764.2 2954.3 32.7 37.6 1088.9 ...\n",
            " $ VD20N.AVG_Signal: num  32776.8 9653.8 22.4 25.4 1644.6 ...\n",
            " $ VD20V.AVG_Signal: num  35044.6 3852.9 40 34.7 1197.5 ...\n",
            " $ VD23N.AVG_Signal: num  29607.3 4314.7 30.1 28.4 1407.9 ...\n",
            " $ VD23V.AVG_Signal: num  30032.2 2890.3 25.2 35.5 1178.4 ...\n",
            " $ VD24N.AVG_Signal: num  27332.3 5644.6 30.7 33.6 1240.5 ...\n",
            " $ VD24V.AVG_Signal: num  22242.8 4256.9 28.9 32.8 1245.8 ...\n",
            " $ VD22N.AVG_Signal: num  32626 9685 113 111 1613 ...\n",
            " $ VD22V.AVG_Signal: num  28600 3693 101 102 953 ...\n",
            " $ VD32N.AVG_Signal: num  29663 6238 109 115 1498 ...\n",
            " $ VD32V.AVG_Signal: num  29348 6811 104 111 1384 ...\n",
            " $ VD33N.AVG_Signal: num  42247 6572 132 164 1869 ...\n",
            " $ VD33V.AVG_Signal: num  41881 4995 130 150 1849 ...\n",
            " $ VD37N.AVG_Signal: num  36386 8399 118 138 2028 ...\n",
            " $ VD37V.AVG_Signal: num  32288 6324 115 119 1603 ...\n",
            " $ VD39N.AVG_Signal: num  23807 6783 109 131 1474 ...\n",
            " $ VD39V.AVG_Signal: num  23104 3132 101 116 806 ...\n",
            " $ VD38N.AVG_Signal: num  33162 9413 118 135 1844 ...\n",
            " $ VD38V.AVG_Signal: num  30208 7514 113 118 1813 ...\n",
            " $ VD40N.AVG_Signal: num  34064 6266 110 123 1926 ...\n",
            " $ VD40V.AVG_Signal: num  31260 4234 105 117 1203 ...\n",
            " $ VD44N.AVG_Signal: num  29028 9271 106 118 1735 ...\n",
            " $ VD44V.AVG_Signal: num  31812 3619 101 114 1266 ...\n",
            " $ VD49N.AVG_Signal: num  29778 5716.1 97.2 115 1327.9 ...\n",
            " $ VD49V.AVG_Signal: num  28273.2 4347.4 93.1 104.3 1108.1 ...\n",
            " $ c.7.AVG_Signal  : num  5432 2509 1191.3 95.6 2135.8 ...\n",
            " $ c.8.AVG_Signal  : num  6821 194 10953 222 1433 ...\n",
            " $ c.9.AVG_Signal  : num  24720 15254 30698 108 1104 ...\n",
            " $ c.10.AVG_Signal : num  35386 28972 59404 14747 14415 ...\n",
            " $ c.11.AVG_Signal : num  14429 3460 11055 129 1866 ...\n",
            " $ v.1.AVG_Signal  : num  1650.3 1422.5 118.6 98.5 1114.7 ...\n",
            " $ v.2.AVG_Signal  : num  4947.4 2791.5 3991.4 98.3 7722.9 ...\n",
            " $ v.3.AVG_Signal  : num  195 638 132 103 1793 ...\n",
            " $ v.4.AVG_Signal  : num  5102 4141 1256 105 5940 ...\n",
            " $ v.5.AVG_Signal  : num  1351 887 1212 242 1830 ...\n"
          ]
        },
        {
          "output_type": "display_data",
          "data": {
            "text/html": [
              "'data.frame'"
            ],
            "text/markdown": "'data.frame'",
            "text/latex": "'data.frame'",
            "text/plain": [
              "[1] \"data.frame\""
            ]
          },
          "metadata": {}
        },
        {
          "output_type": "display_data",
          "data": {
            "text/html": [
              "0"
            ],
            "text/markdown": "0",
            "text/latex": "0",
            "text/plain": [
              "[1] 0"
            ]
          },
          "metadata": {}
        },
        {
          "output_type": "display_data",
          "data": {
            "text/html": [
              "0"
            ],
            "text/markdown": "0",
            "text/latex": "0",
            "text/plain": [
              "[1] 0"
            ]
          },
          "metadata": {}
        },
        {
          "output_type": "error",
          "ename": "ERROR",
          "evalue": "Error in normalize.quantiles(as.matrix(expression_data)): ERROR; return code from pthread_create() is 22\n\n",
          "traceback": [
            "Error in normalize.quantiles(as.matrix(expression_data)): ERROR; return code from pthread_create() is 22\n\nTraceback:\n",
            "1. .handleSimpleError(function (cnd) \n . {\n .     watcher$capture_plot_and_output()\n .     cnd <- sanitize_call(cnd)\n .     watcher$push(cnd)\n .     switch(on_error, continue = invokeRestart(\"eval_continue\"), \n .         stop = invokeRestart(\"eval_stop\"), error = invokeRestart(\"eval_error\", \n .             cnd))\n . }, \"ERROR; return code from pthread_create() is 22\\n\", base::quote(normalize.quantiles(as.matrix(expression_data))))"
          ]
        }
      ],
      "source": [
        "# Check the structure of expression_data\n",
        "str(expression_data)\n",
        "class(expression_data)\n",
        "\n",
        "# If expression_data is a list, convert it to a data.frame or matrix\n",
        "if (class(expression_data) == \"list\") {\n",
        "  expression_data <- as.data.frame(expression_data)\n",
        "}\n",
        "\n",
        "# Convert to matrix if it's not already\n",
        "expression_data <- as.matrix(expression_data)\n",
        "\n",
        "# Check for NA or infinite values\n",
        "sum(is.na(expression_data))  # Count NAs\n",
        "sum(is.infinite(expression_data))  # Count infinite values\n",
        "\n",
        "# Remove rows/columns with NAs or infinite values\n",
        "expression_data <- expression_data[complete.cases(expression_data), ]\n",
        "expression_data <- expression_data[!apply(is.infinite(expression_data), 1, any), ]\n",
        "\n",
        "# Now normalize using preprocessCore (or limma as a fallback)\n",
        "library(preprocessCore)\n",
        "normalized_expression_data <- normalize.quantiles(as.matrix(expression_data))\n",
        "\n",
        "# Alternatively, using limma's normalizeBetweenArrays\n",
        "library(limma)\n",
        "normalized_expre\n"
      ]
    },
    {
      "cell_type": "code",
      "execution_count": null,
      "metadata": {
        "colab": {
          "base_uri": "https://localhost:8080/",
          "height": 726
        },
        "id": "hnUBHwwF4gaX",
        "outputId": "87aa9ab4-eb9c-489b-f629-28b924453a2f"
      },
      "outputs": [
        {
          "output_type": "stream",
          "name": "stderr",
          "text": [
            "'getOption(\"repos\")' replaces Bioconductor standard repositories, see\n",
            "'help(\"repositories\", package = \"BiocManager\")' for details.\n",
            "Replacement repositories:\n",
            "    CRAN: https://cran.rstudio.com\n",
            "\n",
            "Bioconductor version 3.20 (BiocManager 1.30.25), R 4.4.2 (2024-10-31)\n",
            "\n",
            "Warning message:\n",
            "“package(s) not installed when version(s) same as or greater than current; use\n",
            "  `force = TRUE` to re-install: 'limma' 'sva'”\n"
          ]
        },
        {
          "output_type": "stream",
          "name": "stdout",
          "text": [
            "Checking if expression_data columns are numeric:\n",
            "Checking for missing values in expression_data...\n",
            "Checking if 'mod' design matrix contains missing values...\n",
            "Checking if 'mod0' design matrix contains missing values...\n",
            "Checking if surrogate variables contain missing values...\n",
            "Checking if 'batch' variable contains missing values...\n",
            "Running SVA with adjusted parameters...\n",
            "Number of significant surrogate variables is:  2 \n",
            "Iteration (out of 50 ):1  2  3  4  5  6  7  8  9  10  11  12  13  14  15  16  17  18  19  20  21  22  23  24  25  26  27  28  29  30  31  32  33  34  35  36  37  38  39  40  41  42  43  44  45  46  47  48  49  50  Checking if surrogate variables contain missing values...\n",
            "Fitting model with batch effects and surrogate variables...\n",
            "Coefficients not estimable: batch1 \n"
          ]
        },
        {
          "output_type": "stream",
          "name": "stderr",
          "text": [
            "Warning message:\n",
            "“Partial NA coefficients for 24053 probe(s)”\n"
          ]
        },
        {
          "output_type": "stream",
          "name": "stdout",
          "text": [
            "Inspecting batch-corrected data:\n"
          ]
        },
        {
          "output_type": "display_data",
          "data": {
            "text/html": [
              "<table class=\"dataframe\">\n",
              "<caption>A matrix: 6 × 40 of type dbl</caption>\n",
              "<thead>\n",
              "\t<tr><th></th><th scope=col>VD13N.AVG_Signal</th><th scope=col>VD13V.AVG_Signal</th><th scope=col>VD18N.AVG_Signal</th><th scope=col>VD18V.AVG_Signal</th><th scope=col>VD19N.AVG_Signal</th><th scope=col>VD19V.AVG_Signal</th><th scope=col>VD20N.AVG_Signal</th><th scope=col>VD20V.AVG_Signal</th><th scope=col>VD23N.AVG_Signal</th><th scope=col>VD23V.AVG_Signal</th><th scope=col>⋯</th><th scope=col>c.7.AVG_Signal</th><th scope=col>c.8.AVG_Signal</th><th scope=col>c.9.AVG_Signal</th><th scope=col>c.10.AVG_Signal</th><th scope=col>c.11.AVG_Signal</th><th scope=col>v.1.AVG_Signal</th><th scope=col>v.2.AVG_Signal</th><th scope=col>v.3.AVG_Signal</th><th scope=col>v.4.AVG_Signal</th><th scope=col>v.5.AVG_Signal</th></tr>\n",
              "</thead>\n",
              "<tbody>\n",
              "\t<tr><th scope=row>EEF1A1</th><td>25912.53095</td><td>29267.03758</td><td>29014.47542</td><td>28075.29677</td><td>31813.76449</td><td>28059.05790</td><td>34103.35546</td><td>36372.36873</td><td>30885.47984</td><td>31328.73634</td><td>⋯</td><td>6104.1054</td><td>7102.8673</td><td>23042.2382</td><td>21655.3302</td><td>13438.2651</td><td> -262.89267</td><td> -8255.00962</td><td> -733.7225</td><td> -511.0196</td><td> 567.3511</td></tr>\n",
              "\t<tr><th scope=row>GAPDH</th><td> 6879.16814</td><td> 4320.72758</td><td> 8100.48533</td><td> 5157.36008</td><td> 8744.15280</td><td> 4113.04273</td><td>10843.49227</td><td> 5042.26395</td><td> 5457.73620</td><td> 4050.57304</td><td>⋯</td><td>3086.2644</td><td>3369.7875</td><td>13583.2570</td><td>15634.0071</td><td> 2435.0439</td><td> -465.02803</td><td> -9874.07922</td><td> -363.9255</td><td>-1257.8687</td><td> 120.4699</td></tr>\n",
              "\t<tr><th scope=row>LOC643334</th><td> 2671.32011</td><td> 2701.30777</td><td> 2774.60784</td><td> 2736.61186</td><td> 2782.18545</td><td> 2696.47276</td><td> 2746.66023</td><td> 2769.39010</td><td> 2661.05794</td><td> 2692.29439</td><td>⋯</td><td>2619.6235</td><td>6022.6289</td><td>27566.6451</td><td>33138.4291</td><td> 9277.1890</td><td>-3486.64576</td><td>-21565.10181</td><td>-1454.8318</td><td>-9581.7804</td><td>-277.2197</td></tr>\n",
              "\t<tr><th scope=row>SLC35E2</th><td>  780.40676</td><td>  782.50255</td><td>  817.20937</td><td>  809.26489</td><td>  827.91630</td><td>  782.84673</td><td>  788.45198</td><td>  798.68254</td><td>  764.22113</td><td>  781.65255</td><td>⋯</td><td> 486.7403</td><td>-135.5786</td><td> -826.8949</td><td> 7031.5576</td><td> -416.8450</td><td> -971.48545</td><td> -7349.04512</td><td> -401.1652</td><td>-3058.6219</td><td>-197.3513</td></tr>\n",
              "\t<tr><th scope=row>DUSP22</th><td> 2458.06684</td><td> 2138.33064</td><td> 2406.91334</td><td> 2133.73922</td><td> 2420.32394</td><td> 2061.09254</td><td> 2640.31961</td><td> 2194.32895</td><td> 2367.70608</td><td> 2151.83236</td><td>⋯</td><td>2643.6382</td><td>1257.9815</td><td> -133.4866</td><td> 4245.2428</td><td> 1140.6445</td><td> -298.54131</td><td> -2077.31607</td><td> 1118.5485</td><td> 1775.7233</td><td>1250.4869</td></tr>\n",
              "\t<tr><th scope=row>LOC642820</th><td>   43.51011</td><td>   48.68915</td><td>   49.17643</td><td>   44.74682</td><td>   42.27055</td><td>   41.85391</td><td>   47.24674</td><td>   44.47887</td><td>   43.14659</td><td>   39.85861</td><td>⋯</td><td> 105.1808</td><td> 199.1864</td><td>   93.9707</td><td>  271.8751</td><td>  103.2031</td><td>   69.74643</td><td>   -18.72606</td><td>  189.6507</td><td>  610.7998</td><td> 417.7344</td></tr>\n",
              "</tbody>\n",
              "</table>\n"
            ],
            "text/markdown": "\nA matrix: 6 × 40 of type dbl\n\n| <!--/--> | VD13N.AVG_Signal | VD13V.AVG_Signal | VD18N.AVG_Signal | VD18V.AVG_Signal | VD19N.AVG_Signal | VD19V.AVG_Signal | VD20N.AVG_Signal | VD20V.AVG_Signal | VD23N.AVG_Signal | VD23V.AVG_Signal | ⋯ | c.7.AVG_Signal | c.8.AVG_Signal | c.9.AVG_Signal | c.10.AVG_Signal | c.11.AVG_Signal | v.1.AVG_Signal | v.2.AVG_Signal | v.3.AVG_Signal | v.4.AVG_Signal | v.5.AVG_Signal |\n|---|---|---|---|---|---|---|---|---|---|---|---|---|---|---|---|---|---|---|---|---|---|\n| EEF1A1 | 25912.53095 | 29267.03758 | 29014.47542 | 28075.29677 | 31813.76449 | 28059.05790 | 34103.35546 | 36372.36873 | 30885.47984 | 31328.73634 | ⋯ | 6104.1054 | 7102.8673 | 23042.2382 | 21655.3302 | 13438.2651 |  -262.89267 |  -8255.00962 |  -733.7225 |  -511.0196 |  567.3511 |\n| GAPDH |  6879.16814 |  4320.72758 |  8100.48533 |  5157.36008 |  8744.15280 |  4113.04273 | 10843.49227 |  5042.26395 |  5457.73620 |  4050.57304 | ⋯ | 3086.2644 | 3369.7875 | 13583.2570 | 15634.0071 |  2435.0439 |  -465.02803 |  -9874.07922 |  -363.9255 | -1257.8687 |  120.4699 |\n| LOC643334 |  2671.32011 |  2701.30777 |  2774.60784 |  2736.61186 |  2782.18545 |  2696.47276 |  2746.66023 |  2769.39010 |  2661.05794 |  2692.29439 | ⋯ | 2619.6235 | 6022.6289 | 27566.6451 | 33138.4291 |  9277.1890 | -3486.64576 | -21565.10181 | -1454.8318 | -9581.7804 | -277.2197 |\n| SLC35E2 |   780.40676 |   782.50255 |   817.20937 |   809.26489 |   827.91630 |   782.84673 |   788.45198 |   798.68254 |   764.22113 |   781.65255 | ⋯ |  486.7403 | -135.5786 |  -826.8949 |  7031.5576 |  -416.8450 |  -971.48545 |  -7349.04512 |  -401.1652 | -3058.6219 | -197.3513 |\n| DUSP22 |  2458.06684 |  2138.33064 |  2406.91334 |  2133.73922 |  2420.32394 |  2061.09254 |  2640.31961 |  2194.32895 |  2367.70608 |  2151.83236 | ⋯ | 2643.6382 | 1257.9815 |  -133.4866 |  4245.2428 |  1140.6445 |  -298.54131 |  -2077.31607 |  1118.5485 |  1775.7233 | 1250.4869 |\n| LOC642820 |    43.51011 |    48.68915 |    49.17643 |    44.74682 |    42.27055 |    41.85391 |    47.24674 |    44.47887 |    43.14659 |    39.85861 | ⋯ |  105.1808 |  199.1864 |    93.9707 |   271.8751 |   103.2031 |    69.74643 |    -18.72606 |   189.6507 |   610.7998 |  417.7344 |\n\n",
            "text/latex": "A matrix: 6 × 40 of type dbl\n\\begin{tabular}{r|lllllllllllllllllllll}\n  & VD13N.AVG\\_Signal & VD13V.AVG\\_Signal & VD18N.AVG\\_Signal & VD18V.AVG\\_Signal & VD19N.AVG\\_Signal & VD19V.AVG\\_Signal & VD20N.AVG\\_Signal & VD20V.AVG\\_Signal & VD23N.AVG\\_Signal & VD23V.AVG\\_Signal & ⋯ & c.7.AVG\\_Signal & c.8.AVG\\_Signal & c.9.AVG\\_Signal & c.10.AVG\\_Signal & c.11.AVG\\_Signal & v.1.AVG\\_Signal & v.2.AVG\\_Signal & v.3.AVG\\_Signal & v.4.AVG\\_Signal & v.5.AVG\\_Signal\\\\\n\\hline\n\tEEF1A1 & 25912.53095 & 29267.03758 & 29014.47542 & 28075.29677 & 31813.76449 & 28059.05790 & 34103.35546 & 36372.36873 & 30885.47984 & 31328.73634 & ⋯ & 6104.1054 & 7102.8673 & 23042.2382 & 21655.3302 & 13438.2651 &  -262.89267 &  -8255.00962 &  -733.7225 &  -511.0196 &  567.3511\\\\\n\tGAPDH &  6879.16814 &  4320.72758 &  8100.48533 &  5157.36008 &  8744.15280 &  4113.04273 & 10843.49227 &  5042.26395 &  5457.73620 &  4050.57304 & ⋯ & 3086.2644 & 3369.7875 & 13583.2570 & 15634.0071 &  2435.0439 &  -465.02803 &  -9874.07922 &  -363.9255 & -1257.8687 &  120.4699\\\\\n\tLOC643334 &  2671.32011 &  2701.30777 &  2774.60784 &  2736.61186 &  2782.18545 &  2696.47276 &  2746.66023 &  2769.39010 &  2661.05794 &  2692.29439 & ⋯ & 2619.6235 & 6022.6289 & 27566.6451 & 33138.4291 &  9277.1890 & -3486.64576 & -21565.10181 & -1454.8318 & -9581.7804 & -277.2197\\\\\n\tSLC35E2 &   780.40676 &   782.50255 &   817.20937 &   809.26489 &   827.91630 &   782.84673 &   788.45198 &   798.68254 &   764.22113 &   781.65255 & ⋯ &  486.7403 & -135.5786 &  -826.8949 &  7031.5576 &  -416.8450 &  -971.48545 &  -7349.04512 &  -401.1652 & -3058.6219 & -197.3513\\\\\n\tDUSP22 &  2458.06684 &  2138.33064 &  2406.91334 &  2133.73922 &  2420.32394 &  2061.09254 &  2640.31961 &  2194.32895 &  2367.70608 &  2151.83236 & ⋯ & 2643.6382 & 1257.9815 &  -133.4866 &  4245.2428 &  1140.6445 &  -298.54131 &  -2077.31607 &  1118.5485 &  1775.7233 & 1250.4869\\\\\n\tLOC642820 &    43.51011 &    48.68915 &    49.17643 &    44.74682 &    42.27055 &    41.85391 &    47.24674 &    44.47887 &    43.14659 &    39.85861 & ⋯ &  105.1808 &  199.1864 &    93.9707 &   271.8751 &   103.2031 &    69.74643 &    -18.72606 &   189.6507 &   610.7998 &  417.7344\\\\\n\\end{tabular}\n",
            "text/plain": [
              "          VD13N.AVG_Signal VD13V.AVG_Signal VD18N.AVG_Signal VD18V.AVG_Signal\n",
              "EEF1A1    25912.53095      29267.03758      29014.47542      28075.29677     \n",
              "GAPDH      6879.16814       4320.72758       8100.48533       5157.36008     \n",
              "LOC643334  2671.32011       2701.30777       2774.60784       2736.61186     \n",
              "SLC35E2     780.40676        782.50255        817.20937        809.26489     \n",
              "DUSP22     2458.06684       2138.33064       2406.91334       2133.73922     \n",
              "LOC642820    43.51011         48.68915         49.17643         44.74682     \n",
              "          VD19N.AVG_Signal VD19V.AVG_Signal VD20N.AVG_Signal VD20V.AVG_Signal\n",
              "EEF1A1    31813.76449      28059.05790      34103.35546      36372.36873     \n",
              "GAPDH      8744.15280       4113.04273      10843.49227       5042.26395     \n",
              "LOC643334  2782.18545       2696.47276       2746.66023       2769.39010     \n",
              "SLC35E2     827.91630        782.84673        788.45198        798.68254     \n",
              "DUSP22     2420.32394       2061.09254       2640.31961       2194.32895     \n",
              "LOC642820    42.27055         41.85391         47.24674         44.47887     \n",
              "          VD23N.AVG_Signal VD23V.AVG_Signal ⋯ c.7.AVG_Signal c.8.AVG_Signal\n",
              "EEF1A1    30885.47984      31328.73634      ⋯ 6104.1054      7102.8673     \n",
              "GAPDH      5457.73620       4050.57304      ⋯ 3086.2644      3369.7875     \n",
              "LOC643334  2661.05794       2692.29439      ⋯ 2619.6235      6022.6289     \n",
              "SLC35E2     764.22113        781.65255      ⋯  486.7403      -135.5786     \n",
              "DUSP22     2367.70608       2151.83236      ⋯ 2643.6382      1257.9815     \n",
              "LOC642820    43.14659         39.85861      ⋯  105.1808       199.1864     \n",
              "          c.9.AVG_Signal c.10.AVG_Signal c.11.AVG_Signal v.1.AVG_Signal\n",
              "EEF1A1    23042.2382     21655.3302      13438.2651       -262.89267   \n",
              "GAPDH     13583.2570     15634.0071       2435.0439       -465.02803   \n",
              "LOC643334 27566.6451     33138.4291       9277.1890      -3486.64576   \n",
              "SLC35E2    -826.8949      7031.5576       -416.8450       -971.48545   \n",
              "DUSP22     -133.4866      4245.2428       1140.6445       -298.54131   \n",
              "LOC642820    93.9707       271.8751        103.2031         69.74643   \n",
              "          v.2.AVG_Signal v.3.AVG_Signal v.4.AVG_Signal v.5.AVG_Signal\n",
              "EEF1A1     -8255.00962    -733.7225      -511.0196      567.3511     \n",
              "GAPDH      -9874.07922    -363.9255     -1257.8687      120.4699     \n",
              "LOC643334 -21565.10181   -1454.8318     -9581.7804     -277.2197     \n",
              "SLC35E2    -7349.04512    -401.1652     -3058.6219     -197.3513     \n",
              "DUSP22     -2077.31607    1118.5485      1775.7233     1250.4869     \n",
              "LOC642820    -18.72606     189.6507       610.7998      417.7344     "
            ]
          },
          "metadata": {}
        },
        {
          "output_type": "stream",
          "name": "stdout",
          "text": [
            "Saving batch-corrected expression data...\n",
            "Script completed successfully!\n"
          ]
        }
      ],
      "source": [
        "# Load necessary libraries\n",
        "if (!requireNamespace(\"BiocManager\", quietly = TRUE)) {\n",
        "  install.packages(\"BiocManager\")\n",
        "}\n",
        "BiocManager::install(c(\"limma\", \"sva\"))\n",
        "\n",
        "library(limma)\n",
        "library(sva)\n",
        "\n",
        "# Load your expression data and metadata\n",
        "expression_data <- read.csv(\"merged_gene_file.csv\", row.names = 1)  # Replace with your file path\n",
        "metadata <- read.csv(\"metadata.csv\")  # Replace with your file path\n",
        "\n",
        "# Convert metadata columns to factors\n",
        "metadata$batch <- as.factor(metadata$batch)\n",
        "\n",
        "# Ensure expression data is numeric\n",
        "cat(\"Checking if expression_data columns are numeric:\\n\")\n",
        "if (any(!sapply(expression_data, is.numeric))) {\n",
        "  cat(\"Converting non-numeric columns to numeric...\\n\")\n",
        "  expression_data <- apply(expression_data, 2, as.numeric)  # Convert all columns to numeric\n",
        "}\n",
        "\n",
        "# Check for missing values and handle them\n",
        "cat(\"Checking for missing values in expression_data...\\n\")\n",
        "if (sum(is.na(expression_data)) > 0) {\n",
        "  cat(\"Missing values found. Handling missing data...\\n\")\n",
        "  expression_data <- expression_data[complete.cases(expression_data), ]\n",
        "  metadata <- metadata[complete.cases(expression_data), ]  # Ensure metadata matches\n",
        "}\n",
        "\n",
        "# Check that the number of rows in metadata matches the number of columns in expression_data\n",
        "if (nrow(metadata) != ncol(expression_data)) {\n",
        "  stop(\"Number of rows in 'metadata' does not match the number of columns in 'expression_data'. Please check your data.\")\n",
        "}\n",
        "\n",
        "# Define the model matrices 'mod' (full model) and 'mod0' (null model)\n",
        "# Assuming that 'batch' is the batch variable, and you can add other factors like 'Condition' if needed\n",
        "mod <- model.matrix(~ batch, data = metadata)  # Adjust as needed for other factors\n",
        "mod0 <- model.matrix(~ 1, data = metadata)  # Null model\n",
        "\n",
        "# Double check for missing values in design matrices\n",
        "cat(\"Checking if 'mod' design matrix contains missing values...\\n\")\n",
        "if (any(is.na(mod))) stop(\"The 'mod' design matrix contains missing values.\")\n",
        "\n",
        "cat(\"Checking if 'mod0' design matrix contains missing values...\\n\")\n",
        "if (any(is.na(mod0))) stop(\"The 'mod0' design matrix contains missing values.\")\n",
        "\n",
        "# Check for missing values in surrogate variables (which will be generated later)\n",
        "cat(\"Checking if surrogate variables contain missing values...\\n\")\n",
        "# Note: This check will happen after running the SVA analysis\n",
        "\n",
        "# Check for missing values in the 'batch' variable\n",
        "cat(\"Checking if 'batch' variable contains missing values...\\n\")\n",
        "if (any(is.na(metadata$batch))) stop(\"The 'batch' variable contains missing values.\")\n",
        "\n",
        "# Adjusting the number of iterations for sva\n",
        "cat(\"Running SVA with adjusted parameters...\\n\")\n",
        "svobj <- sva(as.matrix(expression_data), mod, mod0, n.sv = 2, B = 50)\n",
        "\n",
        "# Double check for missing values in surrogate variables\n",
        "cat(\"Checking if surrogate variables contain missing values...\\n\")\n",
        "if (any(is.na(svobj$sv))) stop(\"Surrogate variables contain missing values.\")\n",
        "\n",
        "# Continue with further analysis after successful SVA\n",
        "# Add surrogate variables to the design matrix\n",
        "design_with_sva <- cbind(mod, svobj$sv)\n",
        "\n",
        "# Remove batch effects using limma\n",
        "cat(\"Fitting model with batch effects and surrogate variables...\\n\")\n",
        "fit <- lmFit(expression_data, design_with_sva)\n",
        "fit <- eBayes(fit)\n",
        "\n",
        "# Extract batch-corrected expression values\n",
        "batch_corrected <- removeBatchEffect(expression_data, batch = metadata$batch, covariates = svobj$sv, design = mod)\n",
        "\n",
        "# Check the batch-corrected data\n",
        "cat(\"Inspecting batch-corrected data:\\n\")\n",
        "head(batch_corrected)\n",
        "\n",
        "# Save corrected data to CSV\n",
        "cat(\"Saving batch-corrected expression data...\\n\")\n",
        "write.csv(batch_corrected, \"batch_corrected_expression.csv\")\n",
        "\n",
        "cat(\"Script completed successfully!\\n\")\n"
      ]
    },
    {
      "cell_type": "code",
      "execution_count": null,
      "metadata": {
        "colab": {
          "base_uri": "https://localhost:8080/",
          "height": 263
        },
        "id": "v67HMYyRK9PP",
        "outputId": "5475ad34-e5af-408b-e510-4c952ca2b04d"
      },
      "outputs": [
        {
          "output_type": "error",
          "ename": "ERROR",
          "evalue": "Error in normalize.quantiles(as.matrix(merged_data)): ERROR; return code from pthread_create() is 22\n\n",
          "traceback": [
            "Error in normalize.quantiles(as.matrix(merged_data)): ERROR; return code from pthread_create() is 22\n\nTraceback:\n",
            "1. .handleSimpleError(function (cnd) \n . {\n .     watcher$capture_plot_and_output()\n .     cnd <- sanitize_call(cnd)\n .     watcher$push(cnd)\n .     switch(on_error, continue = invokeRestart(\"eval_continue\"), \n .         stop = invokeRestart(\"eval_stop\"), error = invokeRestart(\"eval_error\", \n .             cnd))\n . }, \"ERROR; return code from pthread_create() is 22\\n\", base::quote(normalize.quantiles(as.matrix(merged_data))))"
          ]
        }
      ],
      "source": [
        "# Function to install and load packages\n",
        "install_and_load <- function(packages) {\n",
        "  for (pkg in packages) {\n",
        "    if (!requireNamespace(pkg, quietly = TRUE)) {\n",
        "      install.packages(pkg)\n",
        "    }\n",
        "    library(pkg, character.only = TRUE)\n",
        "  }\n",
        "}\n",
        "\n",
        "# Bioconductor package installer\n",
        "install_bioconductor <- function(packages) {\n",
        "  if (!requireNamespace(\"BiocManager\", quietly = TRUE))\n",
        "    install.packages(\"BiocManager\")\n",
        "  for (pkg in packages) {\n",
        "    if (!requireNamespace(pkg, quietly = TRUE)) {\n",
        "      BiocManager::install(pkg)\n",
        "    }\n",
        "    library(pkg, character.only = TRUE)\n",
        "  }\n",
        "}\n",
        "\n",
        "# List of CRAN packages\n",
        "cran_packages <- c(\"FactoMineR\", \"factoextra\", \"ggplot2\", \"preprocessCore\")\n",
        "\n",
        "# List of Bioconductor packages\n",
        "bioc_packages <- c(\"sva\", \"limma\")\n",
        "\n",
        "# Install and load packages\n",
        "install_and_load(cran_packages)\n",
        "install_bioconductor(bioc_packages)\n",
        "library(limma)\n",
        "library(sva)\n",
        "library(preprocessCore)\n",
        "library(FactoMineR)\n",
        "library(factoextra)\n",
        "library(ggplot2)\n",
        "\n",
        "\n",
        "# Load the merged dataset\n",
        "# Replace \"merged_data.csv\" with your actual merged file path\n",
        "merged_data <- read.csv(\"merged_gene_file.csv\", row.names = 1)\n",
        "\n",
        "# Normalize data using preprocessCore\n",
        "normalized_data <- normalize.quantiles(as.matrix(merged_data))\n",
        "\n",
        "# Perform batch effect removal\n",
        "# Assume batch information is available as \"batch\" and \"group\" metadata\n",
        "# Replace with your actual metadata files or values\n",
        "batch <- as.factor(c(...))  # Provide the batch IDs\n",
        "group <- as.factor(c(...))  # Provide the group labels (e.g., control vs vitiligo)\n",
        "\n",
        "# Adjust for batch effects using ComBat from sva package\n",
        "combat_data <- ComBat(dat = normalized_data, batch = batch, mod = model.matrix(~ group))\n",
        "\n",
        "# Perform PCA\n",
        "pca_res <- PCA(t(combat_data), graph = FALSE)\n",
        "fviz_pca_ind(pca_res, geom = \"point\", col.ind = group, palette = \"jco\", addEllipses = TRUE)\n",
        "\n",
        "# Identify DEGs using limma\n",
        "design <- model.matrix(~ group)\n",
        "fit <- lmFit(combat_data, design)\n",
        "fit <- eBayes(fit)\n",
        "deg_results <- topTable(fit, adjust.method = \"BH\", coef = 2, number = nrow(combat_data))\n",
        "\n",
        "# Filter DEGs\n",
        "deg_filtered <- deg_results[deg_results$adj.P.Val < 0.05 & abs(deg_results$logFC) > 0.5, ]\n",
        "\n",
        "# Save DEGs to file\n",
        "write.csv(deg_filtered, \"DEGs.csv\")\n",
        "\n",
        "# Create heatmap of DEGs\n",
        "heatmap_data <- combat_data[rownames(deg_filtered), ]\n",
        "Heatmap(heatmap_data, show_row_names = TRUE, show_column_names = TRUE,\n",
        "        column_split = group, name = \"Expression\")\n",
        "\n",
        "# Create volcano plot\n",
        "volcano <- ggplot(deg_results, aes(x = logFC, y = -log10(adj.P.Val))) +\n",
        "  geom_point(aes(color = adj.P.Val < 0.05 & abs(logFC) > 0.5), alpha = 0.6) +\n",
        "  scale_color_manual(values = c(\"gray\", \"red\")) +\n",
        "  theme_minimal() +\n",
        "  labs(title = \"Volcano Plot\", x = \"Log2 Fold Change\", y = \"-Log10 Adjusted P-value\")\n",
        "print(volcano)\n",
        "\n",
        "\n",
        "\n"
      ]
    },
    {
      "cell_type": "code",
      "execution_count": null,
      "metadata": {
        "colab": {
          "background_save": true,
          "base_uri": "https://localhost:8080/",
          "height": 627
        },
        "id": "QGsJIEoy2bBl",
        "outputId": "7bac3dff-1e1b-474c-c0a4-44fcd71945aa"
      },
      "outputs": [
        {
          "name": "stderr",
          "output_type": "stream",
          "text": [
            "Installing package into ‘/usr/local/lib/R/site-library’\n",
            "(as ‘lib’ is unspecified)\n",
            "\n",
            "'getOption(\"repos\")' replaces Bioconductor standard repositories, see\n",
            "'help(\"repositories\", package = \"BiocManager\")' for details.\n",
            "Replacement repositories:\n",
            "    CRAN: https://cran.rstudio.com\n",
            "\n",
            "Bioconductor version 3.20 (BiocManager 1.30.25), R 4.4.2 (2024-10-31)\n",
            "\n",
            "Installing package(s) 'BiocVersion', 'preprocessCore'\n",
            "\n",
            "Installing package into ‘/usr/local/lib/R/site-library’\n",
            "(as ‘lib’ is unspecified)\n",
            "\n",
            "also installing the dependencies ‘cowplot’, ‘Deriv’, ‘microbenchmark’, ‘doBy’, ‘SparseM’, ‘MatrixModels’, ‘minqa’, ‘nloptr’, ‘RcppEigen’, ‘lazyeval’, ‘carData’, ‘abind’, ‘Formula’, ‘pbkrtest’, ‘quantreg’, ‘lme4’, ‘crosstalk’, ‘estimability’, ‘numDeriv’, ‘mvtnorm’, ‘car’, ‘DT’, ‘ellipse’, ‘emmeans’, ‘flashClust’, ‘leaps’, ‘multcompView’, ‘scatterplot3d’, ‘ggrepel’\n",
            "\n",
            "\n",
            "Warning message in install.packages(\"FactoMineR\"):\n",
            "“installation of package ‘emmeans’ had non-zero exit status”\n"
          ]
        }
      ],
      "source": [
        "# Install necessary packages (if not already installed)\n",
        "if (!requireNamespace(\"BiocManager\", quietly = TRUE)) {\n",
        "  install.packages(\"BiocManager\")\n",
        "}\n",
        "\n",
        "# Install preprocessCore from Bioconductor\n",
        "BiocManager::install(\"preprocessCore\")\n",
        "\n",
        "# Install FactoMineR and factoextra from CRAN\n",
        "install.packages(\"FactoMineR\")\n",
        "install.packages(\"factoextra\")\n",
        "\n",
        "# Load necessary libraries\n",
        "library(preprocessCore)\n",
        "library(FactoMineR)\n",
        "library(factoextra)\n",
        "\n",
        "# Assuming 'expression_data' is already cleaned (batch effects removed, etc.)\n",
        "\n",
        "# Step 1: Quantile normalization using preprocessCore\n",
        "normalized_data <- normalize.quantiles(as.matrix(expression_data))\n",
        "\n",
        "# Convert the result back to a data frame\n",
        "normalized_data <- as.data.frame(normalized_data)\n",
        "row.names(normalized_data) <- row.names(expression_data)\n",
        "colnames(normalized_data) <- colnames(expression_data)\n",
        "\n",
        "# Inspect the normalized data\n",
        "head(normalized_data)\n",
        "\n",
        "# Save the normalized data to a CSV file\n",
        "write.csv(normalized_data, \"normalized_expression_data.csv\", row.names = TRUE)\n",
        "\n",
        "# Step 2: PCA visualization\n",
        "# Perform PCA on the normalized data (transpose so that samples are in columns)\n",
        "pca_result <- prcomp(t(normalized_data))\n",
        "\n",
        "# Plot the first two principal components\n",
        "fviz_pca_ind(pca_result,\n",
        "             geom.ind = \"point\",\n",
        "             col.ind = metadata$batch,  # Color by batch or condition\n",
        "             palette = c(\"blue\", \"red\"), # Adjust color palette\n",
        "             main = \"PCA After Batch Effect Removal and Normalization\",\n",
        "             xlab = \"PC1\",\n",
        "             ylab = \"PC2\")\n",
        "\n",
        "# Optionally, visualize variables (genes) in PCA space\n",
        "# fviz_pca_var(pca_result)  # Uncomment if needed\n"
      ]
    },
    {
      "cell_type": "code",
      "execution_count": null,
      "metadata": {
        "id": "uE45XL82uW8B"
      },
      "outputs": [],
      "source": [
        "# Load necessary libraries\n",
        "if (!requireNamespace(\"BiocManager\", quietly = TRUE))\n",
        "  install.packages(\"BiocManager\")\n",
        "BiocManager::install(c(\"limma\", \"sva\"))\n",
        "\n",
        "library(limma)\n",
        "library(sva)\n",
        "\n",
        "# Load your data\n",
        "expression_data <- read.csv(\"merged_gene_file.csv\", row.names = 1)\n",
        "metadata <- read.csv(\"metadata.csv\")\n",
        "\n",
        "# Inspect data\n",
        "head(expression_data)\n",
        "head(metadata)\n",
        "colnames(metadata)  # Check column names to confirm\n",
        "\n",
        "# Convert metadata columns to factors\n",
        "metadata$batch <- as.factor(metadata$batch)  # Adjust as needed\n",
        "# Uncomment the line below if there is a Condition column\n",
        "# metadata$Condition <- as.factor(metadata$Condition)\n",
        "\n",
        "# Create a model matrix for experimental conditions\n",
        "design <- model.matrix(~ 1, data = metadata)  # Adjust to include experimental conditions if present\n",
        "\n",
        "# Identify batch effects using SVA\n",
        "batch <- metadata$batch\n",
        "mod <- model.matrix(~ 1, data = metadata)  # Adjusted full model\n",
        "mod0 <- model.matrix(~ 1, data = metadata)  # Null model\n",
        "\n",
        "# Perform surrogate variable analysis\n",
        "svobj <- sva(as.matrix(expression_data), mod, mod0)\n",
        "\n",
        "# Add surrogate variables to the design matrix\n",
        "design_with_sva <- cbind(design, svobj$sv)\n",
        "\n",
        "# Remove batch effects using limma\n",
        "fit <- lmFit(expression_data, design_with_sva)\n",
        "fit <- eBayes(fit)\n",
        "\n",
        "# Extract batch-corrected expression values\n",
        "batch_corrected <- removeBatchEffect(expression_data, batch = batch,\n",
        "                                      covariates = svobj$sv, design = design)\n",
        "\n",
        "# Check the batch-corrected data\n",
        "head(batch_corrected)\n",
        "\n",
        "# Visualization - PCA before and after batch effect removal\n",
        "# Before correction\n",
        "pca_original <- prcomp(t(expression_data))\n",
        "plot(pca_original$x[, 1:2], col = as.numeric(metadata$batch), pch = 16,\n",
        "     main = \"PCA Before Batch Effect Removal\",\n",
        "     xlab = \"PC1\", ylab = \"PC2\")\n",
        "legend(\"topright\", legend = levels(metadata$batch), col = 1:length(levels(metadata$batch)), pch = 16)\n",
        "\n",
        "# After correction\n",
        "pca_corrected <- prcomp(t(batch_corrected))\n",
        "plot(pca_corrected$x[, 1:2], col = as.numeric(metadata$batch), pch = 16,\n",
        "     main = \"PCA After Batch Effect Removal\",\n",
        "     xlab = \"PC1\", ylab = \"PC2\")\n",
        "legend(\"topright\", legend = levels(metadata$batch), col = 1:length(levels(metadata$batch)), pch = 16)\n",
        "\n",
        "# Save corrected data\n",
        "write.csv(batch_corrected, \"batch_corrected_expression.csv\")\n"
      ]
    },
    {
      "cell_type": "markdown",
      "metadata": {
        "id": "2rXbGa5bWEmZ"
      },
      "source": [
        "#### 2 Differential Gene Expression Analysis:\n",
        "\n",
        "After preprocessing, 3,950 differentially expressed genes (DEGs) were identified, which included both upregulated and downregulated genes in vitiligo lesions."
      ]
    },
    {
      "cell_type": "code",
      "execution_count": null,
      "metadata": {
        "id": "iIzXhoW_WFAS"
      },
      "outputs": [],
      "source": []
    },
    {
      "cell_type": "code",
      "execution_count": null,
      "metadata": {
        "id": "9hfLc6PdWFVW"
      },
      "outputs": [],
      "source": []
    },
    {
      "cell_type": "markdown",
      "metadata": {
        "id": "ZZ_5u0eAWF2A"
      },
      "source": [
        "#### 3. Identification of Mitophagy-Related DEGs:\n",
        "\n",
        "The mitophagy gene set was intersected with the DEGs to identify 24 mitophagy-related DEGs.\n",
        "These genes were further analyzed for enriched biological functions and pathways using Gene Ontology (GO) and KEGG analysis.\n"
      ]
    },
    {
      "cell_type": "code",
      "execution_count": null,
      "metadata": {
        "id": "GMhxqfabWGg5"
      },
      "outputs": [],
      "source": []
    },
    {
      "cell_type": "code",
      "execution_count": null,
      "metadata": {
        "id": "4AIdbNsEWG9w"
      },
      "outputs": [],
      "source": []
    }
  ],
  "metadata": {
    "colab": {
      "provenance": [],
      "include_colab_link": true
    },
    "kernelspec": {
      "display_name": "Python 3",
      "name": "python3"
    },
    "language_info": {
      "name": "python"
    }
  },
  "nbformat": 4,
  "nbformat_minor": 0
}